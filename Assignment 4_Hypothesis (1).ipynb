{
 "cells": [
  {
   "cell_type": "code",
   "execution_count": 1,
   "id": "9c8fe9ca",
   "metadata": {},
   "outputs": [],
   "source": [
    "import numpy as np\n",
    "import pandas as pd\n",
    "from scipy import stats\n",
    "from scipy.stats import chi2_contingency\n"
   ]
  },
  {
   "cell_type": "code",
   "execution_count": 4,
   "id": "740e79f2",
   "metadata": {},
   "outputs": [],
   "source": [
    "df = pd.read_csv(r'C:\\Users\\vishn\\Downloads\\Sales_add.csv') "
   ]
  },
  {
   "cell_type": "code",
   "execution_count": 19,
   "id": "b9d72a88",
   "metadata": {},
   "outputs": [
    {
     "data": {
      "text/plain": [
       "'QN1-The company wishes to clarify whether there is any increase in sales after stepping into digital marketing.'"
      ]
     },
     "execution_count": 19,
     "metadata": {},
     "output_type": "execute_result"
    }
   ],
   "source": [
    "\"\"\"QN1-The company wishes to clarify whether there is any increase in sales after stepping into digital marketing.\"\"\""
   ]
  },
  {
   "cell_type": "code",
   "execution_count": 5,
   "id": "cfd682b7",
   "metadata": {},
   "outputs": [
    {
     "name": "stdout",
     "output_type": "stream",
     "text": [
      "<class 'pandas.core.frame.DataFrame'>\n",
      "RangeIndex: 22 entries, 0 to 21\n",
      "Data columns (total 5 columns):\n",
      " #   Column                          Non-Null Count  Dtype \n",
      "---  ------                          --------------  ----- \n",
      " 0   Month                           22 non-null     object\n",
      " 1   Region                          22 non-null     object\n",
      " 2   Manager                         22 non-null     object\n",
      " 3   Sales_before_digital_add(in $)  22 non-null     int64 \n",
      " 4   Sales_After_digital_add(in $)   22 non-null     int64 \n",
      "dtypes: int64(2), object(3)\n",
      "memory usage: 1008.0+ bytes\n"
     ]
    }
   ],
   "source": [
    "df.info()"
   ]
  },
  {
   "cell_type": "code",
   "execution_count": 6,
   "id": "9a04b38d",
   "metadata": {},
   "outputs": [],
   "source": [
    "a = df['Sales_before_digital_add(in $)']"
   ]
  },
  {
   "cell_type": "code",
   "execution_count": 7,
   "id": "9ef6f619",
   "metadata": {},
   "outputs": [],
   "source": [
    "b =df['Sales_After_digital_add(in $)']"
   ]
  },
  {
   "cell_type": "code",
   "execution_count": 8,
   "id": "ec405f03",
   "metadata": {},
   "outputs": [],
   "source": [
    "t2,p_value = stats.ttest_ind(a,b)"
   ]
  },
  {
   "cell_type": "code",
   "execution_count": 9,
   "id": "bb8c3f98",
   "metadata": {},
   "outputs": [
    {
     "data": {
      "text/plain": [
       "-12.995084451110877"
      ]
     },
     "execution_count": 9,
     "metadata": {},
     "output_type": "execute_result"
    }
   ],
   "source": [
    "t2"
   ]
  },
  {
   "cell_type": "code",
   "execution_count": 10,
   "id": "32f61a4d",
   "metadata": {},
   "outputs": [
    {
     "data": {
      "text/plain": [
       "2.614368006904645e-16"
      ]
     },
     "execution_count": 10,
     "metadata": {},
     "output_type": "execute_result"
    }
   ],
   "source": [
    "p_value\n"
   ]
  },
  {
   "cell_type": "code",
   "execution_count": 11,
   "id": "7597d6d7",
   "metadata": {},
   "outputs": [
    {
     "name": "stdout",
     "output_type": "stream",
     "text": [
      "Reject null hyposthesis\n"
     ]
    }
   ],
   "source": [
    "if p_value < 0.05:\n",
    "    print('Reject null hyposthesis')\n",
    "else:\n",
    "    print('Accept null hyposthesis')"
   ]
  },
  {
   "cell_type": "code",
   "execution_count": 17,
   "id": "984bf8a2",
   "metadata": {},
   "outputs": [
    {
     "data": {
      "text/plain": [
       "'it shows that there is increase in sales after stepping out digital marketing'"
      ]
     },
     "execution_count": 17,
     "metadata": {},
     "output_type": "execute_result"
    }
   ],
   "source": [
    "\"\"\"it shows that there is increase in sales after stepping out digital marketing\"\"\""
   ]
  },
  {
   "cell_type": "code",
   "execution_count": 18,
   "id": "e7e1f26b",
   "metadata": {},
   "outputs": [
    {
     "data": {
      "text/plain": [
       "'QN2-The company needs to check whether there is any dependency between the features “Region” and “Manager”.'"
      ]
     },
     "execution_count": 18,
     "metadata": {},
     "output_type": "execute_result"
    }
   ],
   "source": [
    "\"\"\"QN2-The company needs to check whether there is any dependency between the features “Region” and “Manager”.\"\"\""
   ]
  },
  {
   "cell_type": "code",
   "execution_count": 12,
   "id": "ea0b129b",
   "metadata": {},
   "outputs": [],
   "source": [
    "contingency_table = pd.crosstab(df['Region'],df['Manager'])"
   ]
  },
  {
   "cell_type": "code",
   "execution_count": 13,
   "id": "6dc45bd7",
   "metadata": {},
   "outputs": [],
   "source": [
    "chi2,pvalue,dof,expected = chi2_contingency(contingency_table)"
   ]
  },
  {
   "cell_type": "code",
   "execution_count": 15,
   "id": "56302ab1",
   "metadata": {},
   "outputs": [
    {
     "name": "stdout",
     "output_type": "stream",
     "text": [
      "Accept null hyposthesis\n"
     ]
    }
   ],
   "source": [
    "if pvalue < 0.05:\n",
    "    print('Reject null hyposthesis')\n",
    "else:\n",
    "    print('Accept null hyposthesis')"
   ]
  },
  {
   "cell_type": "code",
   "execution_count": 20,
   "id": "11326ee7",
   "metadata": {},
   "outputs": [
    {
     "data": {
      "text/plain": [
       "'Conclusion2:- There is no dependancy between featurs region and manager'"
      ]
     },
     "execution_count": 20,
     "metadata": {},
     "output_type": "execute_result"
    }
   ],
   "source": [
    "\"\"\"Conclusion2:- There is no dependancy between featurs region and manager\"\"\""
   ]
  }
 ],
 "metadata": {
  "kernelspec": {
   "display_name": "Python 3 (ipykernel)",
   "language": "python",
   "name": "python3"
  },
  "language_info": {
   "codemirror_mode": {
    "name": "ipython",
    "version": 3
   },
   "file_extension": ".py",
   "mimetype": "text/x-python",
   "name": "python",
   "nbconvert_exporter": "python",
   "pygments_lexer": "ipython3",
   "version": "3.9.7"
  }
 },
 "nbformat": 4,
 "nbformat_minor": 5
}
